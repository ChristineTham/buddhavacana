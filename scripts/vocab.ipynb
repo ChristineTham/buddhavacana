{
 "cells": [
  {
   "cell_type": "code",
   "execution_count": 1,
   "metadata": {},
   "outputs": [],
   "source": [
    "import pandas as pd"
   ]
  },
  {
   "cell_type": "code",
   "execution_count": 2,
   "metadata": {},
   "outputs": [],
   "source": [
    "verbs = pd.read_excel(\"../data/vocabulary.xlsx\", sheet_name=\"Verbs\")\n",
    "nouns = pd.read_excel(\"../data/vocabulary.xlsx\", sheet_name=\"Nouns\")\n",
    "adjectives = pd.read_excel(\"../data/vocabulary.xlsx\", sheet_name=\"Adjectives\")\n",
    "nipata = pd.read_excel(\"../data/vocabulary.xlsx\", sheet_name=\"Indeclinables\")"
   ]
  },
  {
   "cell_type": "code",
   "execution_count": 19,
   "metadata": {},
   "outputs": [],
   "source": [
    "words = verbs[['lesson', 'page', 'pada', 'lakāra', 'english']].rename(columns={\"pada\": \"word\", \"lakāra\": \"type\"})\n",
    "words = pd.concat([words, nouns[['lesson', 'page', 'nāma', 'liṅga', 'english']].rename(columns={\"nāma\": \"word\", \"liṅga\": \"type\"})])\n",
    "w = adjectives\n",
    "w['type'] = 'guṇanāma'\n",
    "words = pd.concat([words, w[['lesson', 'page', 'guṇanāma', 'type', 'english']].rename(columns={\"guṇanāma\": \"word\"})])\n",
    "w = nipata\n",
    "w['type'] = 'nipāta'\n",
    "words = pd.concat([words, w[['lesson', 'page', 'nipāta', 'type', 'english']].rename(columns={\"nipāta\": \"word\"})])\n",
    "words = words.sort_values(by=['lesson', 'page', 'word']).reset_index().drop('index', axis=1)"
   ]
  },
  {
   "cell_type": "code",
   "execution_count": 20,
   "metadata": {},
   "outputs": [],
   "source": [
    "words.to_csv('../data/words.csv')"
   ]
  }
 ],
 "metadata": {
  "kernelspec": {
   "display_name": "base",
   "language": "python",
   "name": "python3"
  },
  "language_info": {
   "codemirror_mode": {
    "name": "ipython",
    "version": 3
   },
   "file_extension": ".py",
   "mimetype": "text/x-python",
   "name": "python",
   "nbconvert_exporter": "python",
   "pygments_lexer": "ipython3",
   "version": "3.11.5"
  }
 },
 "nbformat": 4,
 "nbformat_minor": 2
}
